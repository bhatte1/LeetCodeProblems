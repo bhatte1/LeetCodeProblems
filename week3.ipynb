{
 "cells": [
  {
   "cell_type": "code",
   "execution_count": 28,
   "id": "8d66a511",
   "metadata": {},
   "outputs": [
    {
     "name": "stdout",
     "output_type": "stream",
     "text": [
      "[2, 2, 2, 1, 4, 3, 3, 9, 6, 7, 19]\n"
     ]
    }
   ],
   "source": [
    "\"\"\"\n",
    "Given two arrays arr1 and arr2, the elements of arr2 are distinct, and all elements in arr2 are also in arr1.\n",
    "\n",
    "Sort the elements of arr1 such that the relative ordering of items in arr1 are the same as in arr2. Elements that do not appear in arr2 should be placed at the end of arr1 in ascending order.\n",
    "\"\"\"\n",
    "\n",
    "#My solution\n",
    "#arr1 = [2,21,43,38,0,42,33,7,24,13,12,27,12,24,5,23,29,48,30,31]\n",
    "\n",
    "#arr2 = [2,42,38,0,43,21]\n",
    "\n",
    "arr1 = [2,3,1,3,2,4,6,7,9,2,19]\n",
    "arr2 = [2,1,4,3,9,6]\n",
    "\n",
    "arr1.sort()\n",
    "arr3 = []\n",
    "arr4 = []\n",
    "\n",
    "for i in arr2:    \n",
    "    for j in arr1:   \n",
    "        if i == j:\n",
    "            arr3.append(i) \n",
    "           \n",
    "for k in arr1:\n",
    "    if k not in arr2:\n",
    "        arr4.append(k)\n",
    "arr3 = arr3 + arr4   \n",
    "        \n",
    "print(arr3)"
   ]
  },
  {
   "cell_type": "code",
   "execution_count": null,
   "id": "aac5d528",
   "metadata": {},
   "outputs": [],
   "source": [
    "\"\"\"\n",
    "Online solution\n",
    "\"\"\"\n",
    "\n",
    "counter = collections.Counter(arr1)\n",
    "keys = sorted(counter)\n",
    "        \n",
    "res = []\n",
    "for n in arr2:\n",
    "    if n in keys:\n",
    "        res += [n] * counter[n]\n",
    "        keys.remove(n)\n",
    "        \n",
    "for k in keys:\n",
    "    res += [k] * counter[k]\n",
    "            \n",
    "return res"
   ]
  }
 ],
 "metadata": {
  "kernelspec": {
   "display_name": "Python 3",
   "language": "python",
   "name": "python3"
  },
  "language_info": {
   "codemirror_mode": {
    "name": "ipython",
    "version": 3
   },
   "file_extension": ".py",
   "mimetype": "text/x-python",
   "name": "python",
   "nbconvert_exporter": "python",
   "pygments_lexer": "ipython3",
   "version": "3.8.8"
  }
 },
 "nbformat": 4,
 "nbformat_minor": 5
}
