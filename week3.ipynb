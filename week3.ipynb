{
 "cells": [
  {
   "cell_type": "code",
   "execution_count": 28,
   "metadata": {},
   "outputs": [
    {
     "name": "stdout",
     "output_type": "stream",
     "text": [
      "[2, 2, 2, 1, 4, 3, 3, 9, 6, 7, 19]\n"
     ]
    }
   ],
   "source": [
    "\"\"\"\n",
    "Given two arrays arr1 and arr2, the elements of arr2 are distinct, and all elements in arr2 are also in arr1.\n",
    "\n",
    "Sort the elements of arr1 such that the relative ordering of items in arr1 are the same as in arr2. Elements that do not appear in arr2 should be placed at the end of arr1 in ascending order.\n",
    "\"\"\"\n",
    "\n",
    "#My solution\n",
    "#arr1 = [2,21,43,38,0,42,33,7,24,13,12,27,12,24,5,23,29,48,30,31]\n",
    "\n",
    "#arr2 = [2,42,38,0,43,21]\n",
    "\n",
    "arr1 = [2,3,1,3,2,4,6,7,9,2,19]\n",
    "arr2 = [2,1,4,3,9,6]\n",
    "\n",
    "arr1.sort()\n",
    "arr3 = []\n",
    "arr4 = []\n",
    "\n",
    "for i in arr2:    \n",
    "    for j in arr1:   \n",
    "        if i == j:\n",
    "            arr3.append(i) \n",
    "           \n",
    "for k in arr1:\n",
    "    if k not in arr2:\n",
    "        arr4.append(k)\n",
    "arr3 = arr3 + arr4   \n",
    "        \n",
    "print(arr3)"
   ]
  },
  {
   "cell_type": "code",
   "execution_count": 7,
   "metadata": {},
   "outputs": [
    {
     "name": "stdout",
     "output_type": "stream",
     "text": [
      "[2, 2, 2, 1, 4, 3, 3, 9, 6, 7, 19]\n"
     ]
    }
   ],
   "source": [
    "\"\"\"\n",
    "Online solution\n",
    "\"\"\"\n",
    "import collections\n",
    "from collections import Counter\n",
    "arr1 = [2,3,1,3,2,4,6,7,9,2,19]\n",
    "arr2 = [2,1,4,3,9,6]\n",
    "counter = collections.Counter(arr1)\n",
    "keys = sorted(counter)\n",
    "        \n",
    "res = []\n",
    "for n in arr2:\n",
    "    if n in keys:\n",
    "        res += [n] * counter[n]\n",
    "        keys.remove(n)\n",
    "        \n",
    "for k in keys:\n",
    "    res += [k] * counter[k]\n",
    "            \n",
    "print(res)"
   ]
  },
  {
   "cell_type": "code",
   "execution_count": 23,
   "metadata": {},
   "outputs": [
    {
     "name": "stdout",
     "output_type": "stream",
     "text": [
      "[2, 3]\n"
     ]
    }
   ],
   "source": [
    "nums1 = [1,1,3,2] \n",
    "nums2 = [2,3]\n",
    "nums3 = [3]\n",
    "nums = []\n",
    "\n",
    "for i in nums1:\n",
    "    if i in nums2:\n",
    "        nums.append(i)\n",
    "    elif i in nums3:\n",
    "        nums.append(i)\n",
    "        \n",
    "for i in nums2:\n",
    "    if i in nums3:\n",
    "        nums.append(i)\n",
    "print(list(set(nums)))"
   ]
  },
  {
   "cell_type": "code",
   "execution_count": 24,
   "metadata": {},
   "outputs": [
    {
     "name": "stdout",
     "output_type": "stream",
     "text": [
      "[1, 2, 3]\n"
     ]
    }
   ],
   "source": [
    "\"\"\"\n",
    "2032\n",
    "Given three integer arrays nums1, nums2, and nums3, return a distinct array containing all the values that are present in at least two out of the three arrays. You may return the values in any order.\n",
    "\"\"\"\n",
    "\n",
    "nums1 = [3,1] \n",
    "nums2 = [2,3]\n",
    "nums3 = [1,2]\n",
    "nums = []\n",
    "\n",
    "for i in nums1:\n",
    "    if i in nums2:\n",
    "        nums.append(i)\n",
    "    elif i in nums3:\n",
    "        nums.append(i)\n",
    "        \n",
    "for i in nums2:\n",
    "    if i in nums3:\n",
    "        nums.append(i)\n",
    "print(set(nums))"
   ]
  },
  {
   "cell_type": "code",
   "execution_count": 25,
   "metadata": {},
   "outputs": [
    {
     "name": "stdout",
     "output_type": "stream",
     "text": [
      "{1, 2, 3}\n"
     ]
    }
   ],
   "source": [
    "\"\"\"\n",
    "Online solution\n",
    "\"\"\"\n",
    "nums1 = [3,1] \n",
    "nums2 = [2,3]\n",
    "nums3 = [1,2]\n",
    "\n",
    "\n",
    "print(set(nums1) & set(nums2) | set(nums2) & set(nums3) | set(nums1) & set(nums3))\n",
    "\n",
    "\n",
    "#My solution is more faster"
   ]
  },
  {
   "cell_type": "code",
   "execution_count": null,
   "metadata": {},
   "outputs": [],
   "source": []
  }
 ],
 "metadata": {
  "kernelspec": {
   "display_name": "Python 3",
   "language": "python",
   "name": "python3"
  },
  "language_info": {
   "codemirror_mode": {
    "name": "ipython",
    "version": 3
   },
   "file_extension": ".py",
   "mimetype": "text/x-python",
   "name": "python",
   "nbconvert_exporter": "python",
   "pygments_lexer": "ipython3",
   "version": "3.8.3"
  }
 },
 "nbformat": 4,
 "nbformat_minor": 5
}
