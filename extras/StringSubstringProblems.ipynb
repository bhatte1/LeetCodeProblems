{
 "cells": [
  {
   "cell_type": "code",
   "execution_count": 9,
   "metadata": {},
   "outputs": [
    {
     "name": "stdout",
     "output_type": "stream",
     "text": [
      "{'b', 'c', 'a'}\n"
     ]
    }
   ],
   "source": [
    "\"\"\"\n",
    "Given a string s, check if it can be constructed by taking a substring of it and appending multiple copies of the substring together.\n",
    "\n",
    "\"\"\"\n",
    "\n",
    "s = \"abcabcabcabc\"\n",
    "\n",
    "print(set(s))"
   ]
  },
  {
   "cell_type": "code",
   "execution_count": null,
   "metadata": {},
   "outputs": [],
   "source": [
    "\"\"\"\n",
    "\n",
    "KMP alg is used to find a substring (word) in a string. If the characters in the word are distinct then you rarely find matches in the string by bruteforce method and it works as O(N). However if the beginning of the word repeats, then we can have something like 'aaaaaa...aaab' where we could find that there is no match with the parent string only at the last character, and KMP algorithm deals with that problem.\n",
    "\n",
    "This is also the task in this problem, where we need to find if some beginning part of the word composes the word by repeating itself.\n",
    "\n",
    "That's why we build the table T for the word that contains information where we should return our pointer when we matched first N characters of the word with some other string and the character N + 1 does not match. If we have a word \"patternpatr\" and a string \"patternpat^ternpatr\" then \"t\" does not match with \"r\" and we should return our pointer to the first \"pat\". Normally we have a word like \"abcd\" and if b,c,d do not match like in \"abc^e\" we just return to \"a\" and check if \"e\" is \"a\", so T contains 0 at ^. For \"abcd^a\" if the second 'a' doesn't match we just skip to the next character in the string without any checks and start allover, so T contains -1 at ^.\n",
    "\n",
    "The numbers in T other than 0 and -1 are rare and are the most interesting for this problem. Because basically they represent the number of characters that repeated the beginning before the pattern stopped reproducing. And they come from a counter, which is called \"pos\" in the code below, which remains hidden, and appears in the table only when the pattern breaks.\n",
    "\n",
    "So if we have a repeating pattern in the beginning of the word, the numbers of T could look like whatever for this pattern, their purpose is to return us to the right place in this pattern UNTIL we hit the next occurence of the full pattern. After that the counter \"pos\" just increases while the pattern repeats itself.\n",
    "\n",
    "Therefore, if we have a repeating pattern, then in the end \"len(s) - pos\" will be equal to the size of this pattern, because this pattern repeated itself for \"pos\" number of characaters till the end of the word \"s\", and otherwise \"len(s) % (len(s) - pos) !=0\"\n",
    "\n",
    "P. S. Since in Python find() (or \"in\") is standard for strings and it is also O(N), a very elegant solution used by other users is just to check if s in (s+s)[1:-1]. But under the hood one would of course use KMP to find \"s\" in the larger string, so it's still worth understanding why KMP is useful and how it gives us the direct answer in O(N) without any explicit matching of a substring within a larger string.\n",
    "\"\"\"\n",
    "\n",
    "\n",
    "class Solution:\n",
    "    def repeatedSubstringPattern(self, s: str) -> bool:\n",
    "        if len(s) <= 1:\n",
    "            return False\n",
    "        T = [-1 for c in s]\n",
    "        pos = 0\n",
    "        for i in range(1, len(s)):\n",
    "            if s[i] == s[pos]:\n",
    "                T[i] = T[pos]\n",
    "            else:\n",
    "                T[i] = pos\n",
    "                pos = T[pos]\n",
    "                while pos >= 0 and s[i] != s[pos]:\n",
    "                    pos = T[pos]\n",
    "            pos += 1\n",
    "        lens = len(s) - pos\n",
    "        if lens == 0 or len(s) % lens != 0 or len(s) == lens:\n",
    "            return False\n",
    "        return True\n"
   ]
  }
 ],
 "metadata": {
  "kernelspec": {
   "display_name": "Python 3",
   "language": "python",
   "name": "python3"
  },
  "language_info": {
   "codemirror_mode": {
    "name": "ipython",
    "version": 3
   },
   "file_extension": ".py",
   "mimetype": "text/x-python",
   "name": "python",
   "nbconvert_exporter": "python",
   "pygments_lexer": "ipython3",
   "version": "3.8.3"
  }
 },
 "nbformat": 4,
 "nbformat_minor": 4
}
