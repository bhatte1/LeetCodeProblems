{
 "cells": [
  {
   "cell_type": "code",
   "execution_count": 6,
   "metadata": {},
   "outputs": [
    {
     "name": "stdout",
     "output_type": "stream",
     "text": [
      "25\n"
     ]
    }
   ],
   "source": [
    "class Solution:\n",
    "    def diagonalSum(mat):\n",
    "        s = 0\n",
    "        for i in range(len(mat)):\n",
    "            s += mat[i][i]\n",
    "        if (len(mat)%2 != 0):\n",
    "            for j in range(len(mat)):\n",
    "                if j == (len(mat)-1)/2:\n",
    "                    s+=0\n",
    "                else:\n",
    "                    s += mat[j][len(mat)-1-j]\n",
    "            return s\n",
    "        for j in range(len(mat)):\n",
    "            s += mat[j][len(mat)-1-j]\n",
    "        return s\n",
    "    mat = [[1,2,3],\n",
    "              [4,5,6],\n",
    "              [7,8,9]]\n",
    "    diagonalSum(mat)\n"
   ]
  },
  {
   "cell_type": "code",
   "execution_count": null,
   "metadata": {},
   "outputs": [],
   "source": []
  }
 ],
 "metadata": {
  "kernelspec": {
   "display_name": "Python 3",
   "language": "python",
   "name": "python3"
  },
  "language_info": {
   "codemirror_mode": {
    "name": "ipython",
    "version": 3
   },
   "file_extension": ".py",
   "mimetype": "text/x-python",
   "name": "python",
   "nbconvert_exporter": "python",
   "pygments_lexer": "ipython3",
   "version": "3.8.3"
  }
 },
 "nbformat": 4,
 "nbformat_minor": 4
}
