{
 "cells": [
  {
   "cell_type": "code",
   "execution_count": 3,
   "id": "ffecb88d",
   "metadata": {},
   "outputs": [
    {
     "name": "stdout",
     "output_type": "stream",
     "text": [
      "2\n"
     ]
    }
   ],
   "source": [
    "\"\"\"\n",
    "1967\n",
    "\n",
    "Given an array of strings patterns and a string word, return the number of strings in patterns that exist as a substring in word.\n",
    "\n",
    "A substring is a contiguous sequence of characters within a string.\n",
    "\"\"\"\n",
    "\n",
    "patterns = [\"a\",\"b\",\"c\"]\n",
    "word = \"aaaaabbbbb\"\n",
    "c = 0\n",
    "for p in patterns:\n",
    "    if p in word:\n",
    "        c +=1\n",
    "        \n",
    "print(c)\n"
   ]
  },
  {
   "cell_type": "code",
   "execution_count": null,
   "id": "520c10a6",
   "metadata": {},
   "outputs": [],
   "source": []
  }
 ],
 "metadata": {
  "kernelspec": {
   "display_name": "Python 3",
   "language": "python",
   "name": "python3"
  },
  "language_info": {
   "codemirror_mode": {
    "name": "ipython",
    "version": 3
   },
   "file_extension": ".py",
   "mimetype": "text/x-python",
   "name": "python",
   "nbconvert_exporter": "python",
   "pygments_lexer": "ipython3",
   "version": "3.8.8"
  }
 },
 "nbformat": 4,
 "nbformat_minor": 5
}
