{
 "cells": [
  {
   "cell_type": "code",
   "execution_count": null,
   "id": "0654fa84",
   "metadata": {},
   "outputs": [],
   "source": [
    "\"\"\"\n",
    "Roman numerals are represented by seven different symbols: I, V, X, L, C, D and M.\n",
    "\"\"\"\n",
    "\n",
    "\"\"\"\n",
    "I pulled the above line which was written in mac first. Now adding comments to my windows machine.\n",
    "I have also made some changes in this file in my mac machine.\n",
    "\n",
    "now I will push and go to my mac machine and pull this content. I should expect merge conflict. Lets see\n",
    "\"\"\""
   ]
  }
 ],
 "metadata": {
  "kernelspec": {
   "display_name": "Python 3",
   "language": "python",
   "name": "python3"
  },
  "language_info": {
   "codemirror_mode": {
    "name": "ipython",
    "version": 3
   },
   "file_extension": ".py",
   "mimetype": "text/x-python",
   "name": "python",
   "nbconvert_exporter": "python",
   "pygments_lexer": "ipython3",
   "version": "3.8.8"
  }
 },
 "nbformat": 4,
 "nbformat_minor": 5
}
