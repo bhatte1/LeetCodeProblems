{
 "cells": [
  {
   "cell_type": "code",
<<<<<<< HEAD
   "execution_count": 1,
   "id": "4446ff1c",
=======
   "execution_count": null,
<<<<<<< HEAD
   "id": "0654fa84",
=======
>>>>>>> 575166da3f9b0aedfc6974fd84a47e6083fe7a29
>>>>>>> 95f6cc59d524cecc37af92a2e04dd92ada1a8b33
   "metadata": {},
   "outputs": [
    {
     "data": {
      "text/plain": [
       "'\\nbefore writing this in mac, I pulled the above line into my windows machine. So this line is the new line I am adding\\nNow I am going to write something in the windows machine in the same file.\\nthen pull the request in mac. \\n\\n'"
      ]
     },
     "execution_count": 1,
     "metadata": {},
     "output_type": "execute_result"
    }
   ],
   "source": [
    "\"\"\"\n",
    "Roman numerals are represented by seven different symbols: I, V, X, L, C, D and M.\n",
    "\"\"\"\n",
<<<<<<< HEAD
    "\"\"\"\n",
    "before writing this in mac, I pulled the above line into my windows machine. So this line is the new line I am adding\n",
    "Now I am going to write something in the windows machine in the same file and push it.\n",
    "then pull the request in mac. \n",
    "I should arrive with merge conflict as I am did make changes in mac. Lets see what happens....\n",
    "!!!\n",
    "\"\"\"\n"
=======
    "\n",
    "\"\"\"\n",
    "I pulled the above line which was written in mac first. Now adding comments to my windows machine.\n",
    "I have also made some changes in this file in my mac machine.\n",
    "\n",
    "now I will push and go to my mac machine and pull this content. I should expect merge conflict. Lets see\n",
    "\"\"\""
>>>>>>> 575166da3f9b0aedfc6974fd84a47e6083fe7a29
   ]
  },
  {
   "cell_type": "code",
   "execution_count": null,
   "id": "7c177f8c",
   "metadata": {},
   "outputs": [],
   "source": []
  }
 ],
 "metadata": {
  "kernelspec": {
   "display_name": "Python 3",
   "language": "python",
   "name": "python3"
  },
  "language_info": {
   "codemirror_mode": {
    "name": "ipython",
    "version": 3
   },
   "file_extension": ".py",
   "mimetype": "text/x-python",
   "name": "python",
   "nbconvert_exporter": "python",
   "pygments_lexer": "ipython3",
   "version": "3.8.8"
  }
 },
 "nbformat": 4,
 "nbformat_minor": 5
}
