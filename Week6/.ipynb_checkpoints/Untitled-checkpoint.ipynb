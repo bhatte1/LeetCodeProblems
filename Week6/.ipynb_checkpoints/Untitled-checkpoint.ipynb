{
 "cells": [
  {
   "cell_type": "code",
   "execution_count": 2,
   "id": "fc5c33b6",
   "metadata": {},
   "outputs": [
    {
     "name": "stdout",
     "output_type": "stream",
     "text": [
      "[-2, 1, -3, 4, -1, 2, 1, -5, 4]\n",
      "[-2, 1, -2, 4, -1, 2, 1, -5, 4]\n",
      "[-2, 1, -2, 4, -1, 2, 1, -5, 4]\n",
      "[-2, 1, -2, 4, 3, 2, 1, -5, 4]\n",
      "[-2, 1, -2, 4, 3, 5, 1, -5, 4]\n",
      "[-2, 1, -2, 4, 3, 5, 6, -5, 4]\n",
      "[-2, 1, -2, 4, 3, 5, 6, 1, 4]\n",
      "[-2, 1, -2, 4, 3, 5, 6, 1, 5]\n",
      "6\n"
     ]
    }
   ],
   "source": [
    "\"\"\"\n",
    "53. Maximum Subarray\n",
    "Given an integer array nums, find the contiguous subarray (containing at least one number) which has the largest sum and return its sum.\n",
    "\n",
    "A subarray is a contiguous part of an array.\n",
    "\n",
    "\"\"\"\n",
    "\n",
    "\"\"\"\n",
    "Input: nums = [-2,1,-3,4,-1,2,1,-5,4]\n",
    "Output: 6\n",
    "Explanation: [4,-1,2,1] has the largest sum = 6.\n",
    "\"\"\"\n",
    "nums = [-2,1,-3,4,-1,2,1,-5,4]\n",
    "\n",
    "for i in range(1,len(nums)):\n",
    "    nums[i]=max(nums[i-1]+nums[i],nums[i])\n",
    "    print(nums)\n",
    "print(max(nums))\n"
   ]
  },
  {
   "cell_type": "code",
   "execution_count": null,
   "id": "eaf674b9",
   "metadata": {},
   "outputs": [],
   "source": []
  }
 ],
 "metadata": {
  "kernelspec": {
   "display_name": "Python 3",
   "language": "python",
   "name": "python3"
  },
  "language_info": {
   "codemirror_mode": {
    "name": "ipython",
    "version": 3
   },
   "file_extension": ".py",
   "mimetype": "text/x-python",
   "name": "python",
   "nbconvert_exporter": "python",
   "pygments_lexer": "ipython3",
   "version": "3.8.8"
  }
 },
 "nbformat": 4,
 "nbformat_minor": 5
}
