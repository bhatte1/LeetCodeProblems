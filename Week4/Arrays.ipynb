{
 "cells": [
  {
   "cell_type": "code",
   "execution_count": null,
   "id": "33e63cd8",
   "metadata": {},
   "outputs": [],
   "source": [
    "\"\"\"\n",
    "Given an array of integers nums, return the number of good pairs.\n",
    "\n",
    "A pair (i, j) is called good if nums[i] == nums[j] and i < j.\n",
    "\n",
    "Input: nums = [1,2,3,1,1,3]\n",
    "Output: 4\n",
    "\n",
    "\"\"\"\n",
    "\n",
    "class Solution:\n",
    "    def numIdenticalPairs(self, nums: List[int]) -> int:\n",
    "        dic = {}\n",
    "        count = 0\n",
    "        \n",
    "        for i in nums:\n",
    "            if i in dic:\n",
    "                count += dic[i]\n",
    "                dic[i] += 1\n",
    "            else:\n",
    "                dic[i] = 1\n",
    "        return count  "
   ]
  },
  {
   "cell_type": "code",
   "execution_count": null,
   "id": "4b37d900",
   "metadata": {},
   "outputs": [],
   "source": [
    "\"\"\"\n",
    "The product difference between two pairs (a, b) and (c, d) is defined as (a * b) - (c * d).\n",
    "\n",
    "For example, the product difference between (5, 6) and (2, 7) is (5 * 6) - (2 * 7) = 16.\n",
    "Given an integer array nums, choose four distinct indices w, x, y, and z such that the product difference between pairs (nums[w], nums[x]) and (nums[y], nums[z]) is maximized.\n",
    "\n",
    "Return the maximum such product difference.\n",
    "\"\"\"\n",
    "\n",
    "class Solution:\n",
    "    def maxProductDifference(self, nums: List[int]) -> int:\n",
    "        #nums1 = list(set(nums))\n",
    "        nums.sort()\n",
    "        return (nums[-1]*nums[-2])-(nums[0]*nums[1])"
   ]
  }
 ],
 "metadata": {
  "kernelspec": {
   "display_name": "Python 3",
   "language": "python",
   "name": "python3"
  },
  "language_info": {
   "codemirror_mode": {
    "name": "ipython",
    "version": 3
   },
   "file_extension": ".py",
   "mimetype": "text/x-python",
   "name": "python",
   "nbconvert_exporter": "python",
   "pygments_lexer": "ipython3",
   "version": "3.8.8"
  }
 },
 "nbformat": 4,
 "nbformat_minor": 5
}
