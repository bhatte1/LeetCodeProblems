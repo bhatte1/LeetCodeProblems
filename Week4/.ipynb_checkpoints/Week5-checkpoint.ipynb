{
 "cells": [
  {
   "cell_type": "code",
   "execution_count": 3,
   "metadata": {},
   "outputs": [
    {
     "name": "stdout",
     "output_type": "stream",
     "text": [
      "is2\n",
      "2\n",
      "sentence4\n",
      "4\n",
      "This1\n",
      "1\n",
      "a3\n",
      "3\n",
      "['This', 'is', 'a', 'sentence']\n"
     ]
    },
    {
     "data": {
      "text/plain": [
       "\"s = s[::-1]\\ns = s.split()\\ns.sort()\\nprint(s)\\nk = []\\nfor i in s:\\n    k.append(i[1:])\\nnw = [j[::-1] for j in k]\\nns = ' '.join(nw)\\nreturn ns \""
      ]
     },
     "execution_count": 3,
     "metadata": {},
     "output_type": "execute_result"
    }
   ],
   "source": [
    "\"\"\"\n",
    "A sentence is a list of words that are separated by a single space with no leading or trailing spaces. Each word consists of lowercase and uppercase English letters.\n",
    "\n",
    "A sentence can be shuffled by appending the 1-indexed word position to each word then rearranging the words in the sentence.\n",
    "\n",
    "For example, the sentence \"This is a sentence\" can be shuffled as \"sentence4 a3 is2 This1\" or \"is2 sentence4 This1 a3\".\n",
    "Given a shuffled sentence s containing no more than 9 words, reconstruct and return the original sentence.\n",
    "\"\"\"\n",
    "\n",
    "\"\"\"\n",
    "Input: s = \"is2 sentence4 This1 a3\"\n",
    "Output: \"This is a sentence\"\n",
    "Explanation: Sort the words in s to their original positions \"This1 is2 a3 sentence4\", then remove the numbers.\n",
    "\n",
    "\"\"\"\n",
    "\n",
    "s = \"is2 sentence4 This1 a3\"\n",
    "\n",
    "arr = s.split(\" \");\n",
    "res  = [0]*len(arr)\n",
    "for i in arr:\n",
    "    idx = i[len(i)-1];\n",
    "    print(i)\n",
    "    print(idx)\n",
    "    res[int(idx)-1] = i[0:len(i)-1]\n",
    "\" \".join(res)\n",
    "\n",
    "print(res)\n",
    "\n",
    "#my solution\n",
    "'''s = s[::-1]\n",
    "s = s.split()\n",
    "s.sort()\n",
    "print(s)\n",
    "k = []\n",
    "for i in s:\n",
    "    k.append(i[1:])\n",
    "nw = [j[::-1] for j in k]\n",
    "ns = ' '.join(nw)\n",
    "return ns '''"
   ]
  },
  {
   "cell_type": "code",
   "execution_count": null,
   "metadata": {},
   "outputs": [],
   "source": []
  }
 ],
 "metadata": {
  "kernelspec": {
   "display_name": "Python 3",
   "language": "python",
   "name": "python3"
  },
  "language_info": {
   "codemirror_mode": {
    "name": "ipython",
    "version": 3
   },
   "file_extension": ".py",
   "mimetype": "text/x-python",
   "name": "python",
   "nbconvert_exporter": "python",
   "pygments_lexer": "ipython3",
   "version": "3.8.3"
  }
 },
 "nbformat": 4,
 "nbformat_minor": 4
}
