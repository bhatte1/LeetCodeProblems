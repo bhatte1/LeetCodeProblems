{
 "cells": [
  {
   "cell_type": "code",
   "execution_count": null,
   "id": "33e63cd8",
   "metadata": {},
   "outputs": [],
   "source": [
    "\"\"\"\n",
    "Given an array of integers nums, return the number of good pairs.\n",
    "\n",
    "A pair (i, j) is called good if nums[i] == nums[j] and i < j.\n",
    "\n",
    "Input: nums = [1,2,3,1,1,3]\n",
    "Output: 4\n",
    "\n",
    "\"\"\"\n",
    "\n",
    "class Solution:\n",
    "    def numIdenticalPairs(self, nums: List[int]) -> int:\n",
    "        dic = {}\n",
    "        count = 0\n",
    "        \n",
    "        for i in nums:\n",
    "            if i in dic:\n",
    "                count += dic[i]\n",
    "                dic[i] += 1\n",
    "            else:\n",
    "                dic[i] = 1\n",
    "        return count  "
   ]
  },
  {
   "cell_type": "code",
   "execution_count": null,
   "id": "4b37d900",
   "metadata": {},
   "outputs": [],
   "source": [
    "\"\"\"\n",
    "The product difference between two pairs (a, b) and (c, d) is defined as (a * b) - (c * d).\n",
    "\n",
    "For example, the product difference between (5, 6) and (2, 7) is (5 * 6) - (2 * 7) = 16.\n",
    "Given an integer array nums, choose four distinct indices w, x, y, and z such that the product difference between pairs (nums[w], nums[x]) and (nums[y], nums[z]) is maximized.\n",
    "\n",
    "Return the maximum such product difference.\n",
    "\"\"\"\n",
    "\n",
    "class Solution:\n",
    "    def maxProductDifference(self, nums: List[int]) -> int:\n",
    "        #nums1 = list(set(nums))\n",
    "        nums.sort()\n",
    "        return (nums[-1]*nums[-2])-(nums[0]*nums[1])"
   ]
  },
  {
   "cell_type": "code",
   "execution_count": null,
   "id": "3f43efd8",
   "metadata": {},
   "outputs": [],
   "source": [
    "\"\"\"\n",
    "Given an array of strings words, return the first palindromic string in the array. If there is no such string, return an empty string \"\".\n",
    "\n",
    "A string is palindromic if it reads the same forward and backward.\n",
    "\n",
    "Input: words = [\"abc\",\"car\",\"ada\",\"racecar\",\"cool\"]\n",
    "Output: \"ada\"\n",
    "\n",
    "\"\"\"\n",
    "\n",
    "\n",
    "def firstPalindrome(self, words: List[str]) -> str:\n",
    "    for word in words:\n",
    "        x = word[::-1]\n",
    "        if x == word:\n",
    "            return word\n",
    "\n",
    "    return \"\""
   ]
  },
  {
   "cell_type": "code",
   "execution_count": null,
   "id": "8400a414",
   "metadata": {},
   "outputs": [],
   "source": [
    "\"\"\"\n",
    "A sentence is a list of words that are separated by a single space with no leading or trailing spaces. Each of the words consists of only uppercase and lowercase English letters (no punctuation).\n",
    "\n",
    "For example, \"Hello World\", \"HELLO\", and \"hello world hello world\" are all sentences.\n",
    "You are given a sentence s​​​​​​ and an integer k​​​​​​. You want to truncate s​​​​​​ such that it contains only the first k​​​​​​ words. Return s​​​​​​ after truncating it.\n",
    "\n",
    "\"\"\"\n",
    "\n",
    "\n",
    "\"\"\"\n",
    "Input: s = \"Hello how are you Contestant\", k = 4\n",
    "Output: \"Hello how are you\"\n",
    "Explanation:\n",
    "The words in s are [\"Hello\", \"how\" \"are\", \"you\", \"Contestant\"].\n",
    "The first 4 words are [\"Hello\", \"how\", \"are\", \"you\"].\n",
    "Hence, you should return \"Hello how are you\".\n",
    "\"\"\"\n",
    "\n",
    "\n",
    "class Solution:\n",
    "    def truncateSentence(self, s: str, k: int) -> str:\n",
    "        list2 = s.split()[:k]\n",
    "        return \" \".join(list2)"
   ]
  }
 ],
 "metadata": {
  "kernelspec": {
   "display_name": "Python 3",
   "language": "python",
   "name": "python3"
  },
  "language_info": {
   "codemirror_mode": {
    "name": "ipython",
    "version": 3
   },
   "file_extension": ".py",
   "mimetype": "text/x-python",
   "name": "python",
   "nbconvert_exporter": "python",
   "pygments_lexer": "ipython3",
   "version": "3.8.8"
  }
 },
 "nbformat": 4,
 "nbformat_minor": 5
}
