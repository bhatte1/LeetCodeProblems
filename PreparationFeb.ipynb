{
 "cells": [
  {
   "cell_type": "code",
   "execution_count": 2,
   "metadata": {},
   "outputs": [
    {
     "name": "stdout",
     "output_type": "stream",
     "text": [
      "True\n"
     ]
    }
   ],
   "source": [
    "#to check if a string is palidrome\n",
    "\n",
    "def palidrome(x):\n",
    "    \n",
    "    \n",
    "    #rever a string\n",
    "    \n",
    "    y = x[::-1]\n",
    "    \n",
    "    if y == x:\n",
    "        return True\n",
    "    else:\n",
    "        return False\n",
    "    \n",
    "\n",
    "def substring(y):\n",
    "    \n",
    "    z = palidrome()\n",
    "    \n",
    "    \n",
    "    \n",
    "    \n",
    "    \n",
    "    \n",
    "print(palidrome(\"moom\"))\n",
    "substring(\"dsgdsgmoomsffgj\")\n"
   ]
  },
  {
   "cell_type": "code",
   "execution_count": 1,
   "metadata": {},
   "outputs": [
    {
     "ename": "SyntaxError",
     "evalue": "invalid syntax (<ipython-input-1-59f7a93dc3c7>, line 12)",
     "output_type": "error",
     "traceback": [
      "\u001b[1;36m  File \u001b[1;32m\"<ipython-input-1-59f7a93dc3c7>\"\u001b[1;36m, line \u001b[1;32m12\u001b[0m\n\u001b[1;33m    a , b , c, ab bc ac abc\u001b[0m\n\u001b[1;37m                  ^\u001b[0m\n\u001b[1;31mSyntaxError\u001b[0m\u001b[1;31m:\u001b[0m invalid syntax\n"
     ]
    }
   ],
   "source": [
    "\n",
    "def f(x):\n",
    "    temp = 0\n",
    "    for i in range(temp,len(x)):\n",
    "        for j in range(len(x)):\n",
    "                   print(x[j]) \n",
    "                \n",
    "        temp =+ 1        \n",
    "                       \n",
    "x(\"abc\")\n",
    "\n",
    "\n",
    "a , b , c, ab bc ac abc"
   ]
  },
  {
   "cell_type": "code",
   "execution_count": 8,
   "metadata": {},
   "outputs": [
    {
     "name": "stdout",
     "output_type": "stream",
     "text": [
      "4\n",
      "4\n",
      "[4, 10]\n"
     ]
    }
   ],
   "source": [
    "s = [10,4]\n",
    "x = 0\n",
    "y = 0\n",
    "for i in range(1,len(s)):\n",
    "    x = s[i]\n",
    "    print(x)\n",
    "    y = s[i-1]\n",
    "    s[i] = y\n",
    "    s[i-1] = x\n",
    "    print(x)\n",
    "print(s)"
   ]
  },
  {
   "cell_type": "code",
   "execution_count": 48,
   "metadata": {},
   "outputs": [
    {
     "name": "stdout",
     "output_type": "stream",
     "text": [
      "[1, 1, 2, 2, 3, 3, 4, 4, 22, 22, 36, 36, 52, 52, 85, 85, 96, 96, 100, 100, 200, 200]\n",
      "1071\n",
      "3\n"
     ]
    }
   ],
   "source": [
    "s = [100,2,1,200,3,4,22,85,52,96,36,100,2,1,200,3,4,22,85,52,96,36]\n",
    "x= 0\n",
    "y = 0\n",
    "i = 1\n",
    "c = 0\n",
    "while i < len(s):\n",
    "    c += 1\n",
    "    if s[i-1] > s[i]:\n",
    "        x = s[i-1]\n",
    "        y = s[i]\n",
    "        s[i-1] = y\n",
    "        s[i] = x\n",
    "        i = 1\n",
    "    else:\n",
    "        i += 1\n",
    "print(s) \n",
    "print(c)\n",
    "c= 0\n",
    "for i in range(1,len(s)):\n",
    "    if s[i-1] == s[i]- 1:\n",
    "        c += 1\n",
    "print(c)"
   ]
  },
  {
   "cell_type": "code",
   "execution_count": 54,
   "metadata": {},
   "outputs": [
    {
     "name": "stdout",
     "output_type": "stream",
     "text": [
      "[2, 100, 1, 200, 3, 4]\n",
      "[2, 1, 100, 200, 3, 4]\n",
      "[2, 1, 100, 3, 200, 4]\n",
      "[2, 1, 100, 3, 4, 200]\n",
      "[1, 2, 100, 3, 4, 200]\n",
      "[1, 2, 3, 100, 4, 200]\n",
      "[1, 2, 3, 4, 100, 200]\n",
      "6\n",
      "15\n"
     ]
    }
   ],
   "source": [
    "\n",
    "array = [100,2,1,200,3,4]  \n",
    "c = 0\n",
    "d = 0\n",
    "  # loop to access each array element\n",
    "for i in range(len(array)):\n",
    "    c +=1\n",
    "    # loop to compare array elements\n",
    "    for j in range(0, len(array)-i-1):\n",
    "        d += 1#j = 0 to 3\n",
    "      # compare two adjacent elements   #j = 5\n",
    "      # change > to < to sort in descending order\n",
    "        if array[j] > array[j + 1]:\n",
    "\n",
    "            # swapping elements if elements\n",
    "                # are not in the intended order\n",
    "            temp = array[j]\n",
    "            array[j] = array[j+1]\n",
    "            array[j+1] = temp\n",
    "        \n",
    "            print(array)\n",
    "print(c)\n",
    "print(d)"
   ]
  },
  {
   "cell_type": "code",
   "execution_count": 56,
   "metadata": {},
   "outputs": [
    {
     "name": "stdout",
     "output_type": "stream",
     "text": [
      "0\n",
      "[2, 100, 1, 200, 3, 4]\n",
      "1\n",
      "[2, 1, 100, 200, 3, 4]\n",
      "3\n",
      "[2, 1, 100, 3, 200, 4]\n",
      "4\n",
      "[2, 1, 100, 3, 4, 200]\n",
      "0\n",
      "[1, 2, 100, 3, 4, 200]\n",
      "2\n",
      "[1, 2, 3, 100, 4, 200]\n",
      "3\n",
      "[1, 2, 3, 4, 100, 200]\n",
      "3\n",
      "12\n"
     ]
    }
   ],
   "source": [
    "array = [100,2,1,200,3,4]  \n",
    "c = 0\n",
    "d = 0\n",
    "  # loop to access each array element\n",
    "for i in range(len(array)):\n",
    "    c +=1\n",
    "    swapped = False\n",
    "    # loop to compare array elements\n",
    "    for j in range(0, len(array)-i-1):\n",
    "        d += 1#j = 0 to 3\n",
    "      # compare two adjacent elements   #j = 5\n",
    "      # change > to < to sort in descending order\n",
    "        if array[j] > array[j + 1]:\n",
    "            print(j)\n",
    "            # swapping elements if elements\n",
    "                # are not in the intended order\n",
    "            temp = array[j]\n",
    "            array[j] = array[j+1]\n",
    "            array[j+1] = temp\n",
    "            print(array)\n",
    "            swapped = True\n",
    "    if not swapped:\n",
    "        break\n",
    "            \n",
    "print(c)\n",
    "print(d)"
   ]
  },
  {
   "cell_type": "code",
   "execution_count": 84,
   "metadata": {},
   "outputs": [
    {
     "name": "stdout",
     "output_type": "stream",
     "text": [
      "[1, 3, 5, 6, 9, 9]\n",
      "4\n"
     ]
    }
   ],
   "source": [
    "nums = [1,3,5,6,9]\n",
    "target = 9\n",
    "\n",
    "for i in range(len(nums)):\n",
    "    if nums[i] < target:\n",
    "        pass\n",
    "    else:\n",
    "        nums.insert(i,target)\n",
    "        break\n",
    "if i == len(nums)-1:\n",
    "    nums.insert(i+1,target)\n",
    "print(nums)        \n",
    "print(nums.index(target))"
   ]
  },
  {
   "cell_type": "code",
   "execution_count": 70,
   "metadata": {},
   "outputs": [
    {
     "name": "stdout",
     "output_type": "stream",
     "text": [
      "[1, 3, 5, 6, 7]\n"
     ]
    }
   ],
   "source": [
    "nums = [1,3,5,6]\n",
    "nums.insert(4,7)\n",
    "print(nums)"
   ]
  },
  {
   "cell_type": "code",
   "execution_count": 85,
   "metadata": {},
   "outputs": [
    {
     "name": "stdout",
     "output_type": "stream",
     "text": [
      "3\n"
     ]
    }
   ],
   "source": [
    "print(int(3.5))"
   ]
  },
  {
   "cell_type": "code",
   "execution_count": 93,
   "metadata": {},
   "outputs": [
    {
     "name": "stdout",
     "output_type": "stream",
     "text": [
      "[-5, -3, -2, -1, 1, 1, 2, 4, 4]\n"
     ]
    }
   ],
   "source": [
    "nums = [-2,1,-3,4,-1,2,1,-5,4]\n",
    "nums.sort()\n",
    "print(nums)"
   ]
  },
  {
   "cell_type": "code",
   "execution_count": 100,
   "metadata": {},
   "outputs": [
    {
     "name": "stdout",
     "output_type": "stream",
     "text": [
      "1\n",
      "6\n",
      "1\n"
     ]
    }
   ],
   "source": [
    "nums = [10,2,10,9,1,6,8,9,2,8]\n",
    "k = 5\n",
    "c = 0\n",
    "for i in range(len(nums)-1):\n",
    "    for j in range(i+1,len(nums)):\n",
    "        if abs(nums[i]-nums[j]) == k:\n",
    "            print(nums[i])\n",
    "            print(nums[j])\n",
    "            c +=1\n",
    "print(c)"
   ]
  },
  {
   "cell_type": "code",
   "execution_count": 104,
   "metadata": {},
   "outputs": [
    {
     "name": "stdout",
     "output_type": "stream",
     "text": [
      "Counter({1: 2, 2: 2})\n",
      "1\n",
      "2\n",
      "4\n"
     ]
    }
   ],
   "source": [
    "from collections import Counter\n",
    "nums = [1,2,2,1]\n",
    "k =1\n",
    "count = Counter(nums)\n",
    "print(count)\n",
    "res = 0\n",
    "for num in count:\n",
    "    print(num)\n",
    "    if num + k in count:\n",
    "        res += (count[num] * count[num+k])\n",
    "print(res)"
   ]
  },
  {
   "cell_type": "code",
   "execution_count": 105,
   "metadata": {},
   "outputs": [
    {
     "name": "stdout",
     "output_type": "stream",
     "text": [
      "2\n",
      "2\n"
     ]
    }
   ],
   "source": [
    "from collections import Counter\n",
    "nums = [1,2,2,1]\n",
    "count = Counter(nums)\n",
    "\n",
    "for k,v in count.items():\n",
    "    print(v)\n",
    "\n"
   ]
  },
  {
   "cell_type": "code",
   "execution_count": 120,
   "metadata": {},
   "outputs": [
    {
     "name": "stdout",
     "output_type": "stream",
     "text": [
      "['W', 'e', ' ', 'a', 'r', 'e', ' ', 'g', 'o', 'i', 'n', 'g', ' ', 't', 'o', ' ', 'h', 'a', 'v', 'e', ' ', 'y', 'o', 'u']\n",
      "['u', 'o', 'e', 'a', 'o', 'i', 'o', 'e', 'a', 'e']\n",
      "Wu ore gaong ti hove yae\n"
     ]
    }
   ],
   "source": [
    "str1 = \"We are going to have you\"\n",
    "voewl = [\"a\",\"e\",\"i\",\"o\",\"u\"]\n",
    "\n",
    "str1 = list(str1)\n",
    "print(str1)\n",
    "list1 = []\n",
    "for i in str1:\n",
    "    if i in voewl:\n",
    "        list1.append(i)\n",
    "list1 = list1[::-1]\n",
    "print(list1)\n",
    "j = 0\n",
    "for i in range(len(str1)):\n",
    "    if str1[i] in list1:\n",
    "        str1[i] = list1[j]\n",
    "        j += 1\n",
    "a = \"\".join(str1)\n",
    "print(a)\n",
    "\n"
   ]
  },
  {
   "cell_type": "code",
   "execution_count": 119,
   "metadata": {},
   "outputs": [
    {
     "name": "stdout",
     "output_type": "stream",
     "text": [
      "We aro giong te have\n"
     ]
    }
   ],
   "source": [
    "vowel = [\"a\",\"e\",\"i\",\"o\",\"u\"]\n",
    "str1 = \"We are going to have\"\n",
    "list1=[]\n",
    "for s in str1:\n",
    "    if s in vowel:\n",
    "        list1.append(s)\n",
    "list1 = list1[::-1]\n",
    "i = 0\n",
    "str2 = ''\n",
    "for s in str1:\n",
    "    if s in list1:\n",
    "        s = list1[i]\n",
    "        i +=1\n",
    "    str2 += s\n",
    "print(str2)"
   ]
  },
  {
   "cell_type": "code",
   "execution_count": 124,
   "metadata": {},
   "outputs": [
    {
     "data": {
      "text/plain": [
       "True"
      ]
     },
     "execution_count": 124,
     "metadata": {},
     "output_type": "execute_result"
    }
   ],
   "source": [
    "def reverse(str):\n",
    "    \n",
    "    str = str[::-1]\n",
    "    return str\n",
    "\n",
    "def palindrome(ori):\n",
    "    \n",
    "    rev = reverse(ori)\n",
    "    \n",
    "    for i in range(len(rev)):\n",
    "        for j in range(len(rev), -1)\n",
    "\n",
    "palindrome(\"momlxxmoom\")"
   ]
  },
  {
   "cell_type": "code",
   "execution_count": 2,
   "metadata": {},
   "outputs": [
    {
     "name": "stdout",
     "output_type": "stream",
     "text": [
      "0\n"
     ]
    }
   ],
   "source": [
    "gain = [-4,-3,-2,-1,4,3,2]\n",
    "list1 = [0]\n",
    "\n",
    "for i in range(len(gain)):\n",
    "    x = list1[i]+gain[i]\n",
    "    list1.append(x)\n",
    "    \n",
    "print(max(list1))"
   ]
  },
  {
   "cell_type": "code",
   "execution_count": 16,
   "metadata": {},
   "outputs": [
    {
     "name": "stdout",
     "output_type": "stream",
     "text": [
      "30\n"
     ]
    }
   ],
   "source": [
    "mat = [[1,2,3],\n",
    "              [4,5,6],\n",
    "              [7,8,9]]\n",
    "s = 0\n",
    "if len(mat)%2 != 0:\n",
    "    for i in range(len(mat)):\n",
    "        s += mat[i][i]\n",
    "    for j in range(len(mat)-1,-1,-1):\n",
    "        if j\n",
    "            s+=0\n",
    "        s += mat[j][j]\n",
    "        \n",
    "print(s)"
   ]
  },
  {
   "cell_type": "code",
   "execution_count": 15,
   "metadata": {},
   "outputs": [
    {
     "name": "stdout",
     "output_type": "stream",
     "text": [
      "3\n",
      "2\n",
      "1\n"
     ]
    }
   ],
   "source": [
    "at = [1,2,3]\n",
    "\n",
    "for j in range(3,0,-1):\n",
    "    print(j)"
   ]
  },
  {
   "cell_type": "code",
   "execution_count": null,
   "metadata": {},
   "outputs": [],
   "source": []
  }
 ],
 "metadata": {
  "kernelspec": {
   "display_name": "Python 3",
   "language": "python",
   "name": "python3"
  },
  "language_info": {
   "codemirror_mode": {
    "name": "ipython",
    "version": 3
   },
   "file_extension": ".py",
   "mimetype": "text/x-python",
   "name": "python",
   "nbconvert_exporter": "python",
   "pygments_lexer": "ipython3",
   "version": "3.8.3"
  }
 },
 "nbformat": 4,
 "nbformat_minor": 4
}
